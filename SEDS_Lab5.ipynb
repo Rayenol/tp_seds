{
 "cells": [
  {
   "cell_type": "markdown",
   "metadata": {},
   "source": [
    "<figure>\n",
    "  <IMG src=\"figures/logo-esi-sba.png\" WIDTH=300 height=\"100\" ALIGN=\"right\">\n",
    "</figure>\n",
    "\n",
    "# Practical Trainining Series on Software Engineering For Data Science  \n",
    "*By Dr. Belkacem KHALDI (b.khaldi@esi-sba.dz)*"
   ]
  },
  {
   "cell_type": "markdown",
   "metadata": {
    "slideshow": {
     "slide_type": "slide"
    }
   },
   "source": [
    "# Notebook 5: Data Processing & Cleaning for Data Science: Data Ingestion and Wrangling with Pandas\n",
    "\n",
    "The purpose of this [Jupyter Notebook] is to getting you introduced to the Data Processing & Cleaning for Data\n",
    "Science: Data Ingestion and Wrangling with Pandas. It provides a set of practical Training challenges that allow grasping the different concepts presented in the lecture 5."
   ]
  },
  {
   "cell_type": "markdown",
   "metadata": {},
   "source": [
    "## Challenge 1\n",
    "1. Connect to the `chinook.db` sqlite3 database available in the folder data.\n",
    "2. Find the genre names with the longest average song length.\n",
    "\n",
    "`Hint:`\n",
    "join the tables with the genre name and song length and use the SQLite aggregate\n",
    "function for the average along with a GROUP BY clause.\n"
   ]
  },
  {
   "cell_type": "code",
   "execution_count": 1,
   "metadata": {},
   "outputs": [
    {
     "name": "stdout",
     "output_type": "stream",
     "text": [
      "Genre: Sci Fi & Fantasy, Average Song Length (ms): 2911783.0384615385\n",
      "Genre: Science Fiction, Average Song Length (ms): 2625549.076923077\n",
      "Genre: Drama, Average Song Length (ms): 2575283.78125\n",
      "Genre: TV Shows, Average Song Length (ms): 2145041.0215053763\n",
      "Genre: Comedy, Average Song Length (ms): 1585263.705882353\n",
      "Genre: Metal, Average Song Length (ms): 309749.4438502674\n",
      "Genre: Electronica/Dance, Average Song Length (ms): 302985.8\n",
      "Genre: Heavy Metal, Average Song Length (ms): 297452.9285714286\n",
      "Genre: Classical, Average Song Length (ms): 293867.5675675676\n",
      "Genre: Jazz, Average Song Length (ms): 291755.3769230769\n",
      "Genre: Rock, Average Song Length (ms): 283910.0431765613\n",
      "Genre: Blues, Average Song Length (ms): 270359.77777777775\n",
      "Genre: Alternative, Average Song Length (ms): 264058.525\n",
      "Genre: Reggae, Average Song Length (ms): 247177.75862068965\n",
      "Genre: Soundtrack, Average Song Length (ms): 244370.88372093023\n",
      "Genre: Alternative & Punk, Average Song Length (ms): 234353.84939759035\n",
      "Genre: Latin, Average Song Length (ms): 232859.26252158894\n",
      "Genre: Pop, Average Song Length (ms): 229034.10416666666\n",
      "Genre: World, Average Song Length (ms): 224923.82142857142\n",
      "Genre: R&B/Soul, Average Song Length (ms): 220066.8524590164\n",
      "Genre: Bossa Nova, Average Song Length (ms): 219590.0\n",
      "Genre: Easy Listening, Average Song Length (ms): 189164.20833333334\n",
      "Genre: Hip Hop/Rap, Average Song Length (ms): 178176.2857142857\n",
      "Genre: Opera, Average Song Length (ms): 174813.0\n",
      "Genre: Rock And Roll, Average Song Length (ms): 134643.5\n"
     ]
    }
   ],
   "source": [
    "import sqlite3 \n",
    "import pandas as pd\n",
    "import matplotlib.pyplot as plt\n",
    "connection = sqlite3.connect(r'data/chinook.db')\n",
    "cursor = connection.cursor()\n",
    "\n",
    "query = \"\"\"\n",
    "    SELECT genres.Name AS GenreName, AVG(tracks.Milliseconds) AS AvgSongLength\n",
    "    FROM tracks\n",
    "    JOIN genres ON tracks.GenreId = genres.GenreId\n",
    "    GROUP BY genres.Name\n",
    "    ORDER BY AvgSongLength DESC;\n",
    "\"\"\"\n",
    "\n",
    "cursor.execute(query)\n",
    "results = cursor.fetchall()\n",
    "for row in results:\n",
    "    print(f\"Genre: {row[0]}, Average Song Length (ms): {row[1]}\")\n",
    "    \n",
    "connection.close()"
   ]
  },
  {
   "cell_type": "markdown",
   "metadata": {},
   "source": [
    "## Challenge 2: Ingesting, Wrangling and Analyzing  iTune data\n",
    "\n",
    "You've started a new data science position at the iTune department at Apple Company. \n",
    "The department wants to build, test, and evaluate new machine learning recommendation song models using a different source of data: in Excel file, in a csv file, and in the chinook.db SQLite database. They want you proceed with the data ingsestion and data wrangling procedures to provide a clean dataset to be used later for their machine learning based recommendation songs models.  \n",
    "\n",
    "1. They particlarly asked you to load, clean, and analyze, and then deliver your results to the executive team and president.\n",
    "You should deliver a small summary of your EDA work from pandas and save your cleaned and prepared data as a new Excel file. The data files are `chinook_data.xlsx`, `chinook_data.csv`, and `chinook.db` on the data folder existed within this notebook.\n",
    "\n",
    "`Hint:`\n",
    "1. Follow the procedures in Lecture 5 - Slides: 13-17 - For data ingestion (Data loading from different sources).\n",
    "\n",
    "2. Follow and test the procedures in Lecture 5 - Slides:18-22 - For Basic Exploratory Data Analysis (EDA).\n",
    "\n",
    "3. Follow and test the procedures in Lecture 5 - Slides:23-27 - For Basic Data Cleaning Operations.\n",
    "\n",
    "4. To save your cleaned dataset in an excel file use the pandas built-in method: `pandas.DataFrame.to_excel`.\n"
   ]
  },
  {
   "cell_type": "markdown",
   "metadata": {},
   "source": [
    "### data ingestion (Data loading from different sources)."
   ]
  },
  {
   "cell_type": "code",
   "execution_count": 2,
   "metadata": {},
   "outputs": [
    {
     "name": "stdout",
     "output_type": "stream",
     "text": [
      "Requirement already satisfied: openpyxl in /opt/anaconda3/lib/python3.12/site-packages (3.1.5)\n",
      "Requirement already satisfied: et-xmlfile in /opt/anaconda3/lib/python3.12/site-packages (from openpyxl) (1.1.0)\n"
     ]
    }
   ],
   "source": [
    "! pip install openpyxl"
   ]
  },
  {
   "cell_type": "code",
   "execution_count": 3,
   "metadata": {},
   "outputs": [
    {
     "name": "stdout",
     "output_type": "stream",
     "text": [
      "Excel file loaded successfully!\n",
      "CSV file loaded successfully!\n",
      "SQL data loaded successfully!\n",
      "Data combined successfully!\n",
      "\n",
      "Combined Dataset Information:\n",
      "Total rows: 4021\n",
      "Total columns: 8\n",
      "\n",
      "Columns in combined dataset:\n",
      "['Track', 'Composer', 'Milliseconds', 'Bytes', 'UnitPrice', 'Genre', 'Album', 'Artist']\n",
      "\n",
      "First few rows of combined dataset:\n",
      "                                    Track                           Composer  \\\n",
      "0  All the Best Cowboys Have Daddy Issues                                NaN   \n",
      "1                               Beira Mar                       Gilberto Gil   \n",
      "2                                  Brasil  Milton Nascimento, Fernando Brant   \n",
      "3                            Ben Franklin                                NaN   \n",
      "4            O Último Romântico (Ao Vivo)                                NaN   \n",
      "\n",
      "   Milliseconds        Bytes  UnitPrice     Genre  \\\n",
      "0     2555492.0  211743651.0       1.99  TV Shows   \n",
      "1      295444.0    9597994.0       0.99     Latin   \n",
      "2      155428.0    5252560.0       0.99     Latin   \n",
      "3     1271938.0  264168080.0       1.99    Comedy   \n",
      "4      231993.0    7692697.0       0.99     Latin   \n",
      "\n",
      "                                             Album             Artist  \n",
      "0                                   Lost, Season 1               Lost  \n",
      "1                                        Unplugged       Eric Clapton  \n",
      "2                        Milton Nascimento Ao Vivo  Milton Nascimento  \n",
      "3                             The Office, Season 3         The Office  \n",
      "4  Lulu Santos - RCA 100 Anos De Música - Álbum 02        Lulu Santos  \n",
      "\n",
      "Dataset summary:\n",
      "<class 'pandas.core.frame.DataFrame'>\n",
      "RangeIndex: 4021 entries, 0 to 4020\n",
      "Data columns (total 8 columns):\n",
      " #   Column        Non-Null Count  Dtype  \n",
      "---  ------        --------------  -----  \n",
      " 0   Track         4021 non-null   object \n",
      " 1   Composer      2908 non-null   object \n",
      " 2   Milliseconds  518 non-null    float64\n",
      " 3   Bytes         518 non-null    float64\n",
      " 4   UnitPrice     4021 non-null   float64\n",
      " 5   Genre         4021 non-null   object \n",
      " 6   Album         4021 non-null   object \n",
      " 7   Artist        4021 non-null   object \n",
      "dtypes: float64(3), object(5)\n",
      "memory usage: 251.4+ KB\n",
      "None\n",
      "\n",
      "Number of duplicate rows: 20\n",
      "\n",
      "Numerical columns statistics:\n",
      "       Milliseconds         Bytes    UnitPrice\n",
      "count  5.180000e+02  5.180000e+02  4021.000000\n",
      "mean   3.868336e+05  3.040734e+07     1.050184\n",
      "std    5.258469e+05  9.602387e+07     0.237857\n",
      "min    4.884000e+03  1.612660e+05     0.990000\n",
      "25%    2.049758e+05  6.493416e+06     0.990000\n",
      "50%    2.526950e+05  8.098298e+06     0.990000\n",
      "75%    3.225330e+05  1.010645e+07     0.990000\n",
      "max    2.935894e+06  5.701522e+08     1.990000\n"
     ]
    }
   ],
   "source": [
    "\n",
    "import pandas as pd\n",
    "import sqlite3\n",
    "import subprocess\n",
    "import sys\n",
    "\n",
    "def install_openpyxl():\n",
    "    \"\"\"Install openpyxl package\"\"\"\n",
    "    print(\"Installing openpyxl...\")\n",
    "    try:\n",
    "        subprocess.check_call([sys.executable, \"-m\", \"pip\", \"install\", \"openpyxl\"])\n",
    "        print(\"Successfully installed openpyxl!\")\n",
    "        return True\n",
    "    except Exception as e:\n",
    "        print(f\"Error installing openpyxl: {e}\")\n",
    "        return False\n",
    "\n",
    "def load_and_combine_data():\n",
    "    \"\"\"Load and combine data from Excel, CSV, and SQLite\"\"\"\n",
    "    try:\n",
    "        # First try to load Excel file\n",
    "        try:\n",
    "            excel_df = pd.read_excel('data/chinook_data.xlsx')\n",
    "            print(\"Excel file loaded successfully!\")\n",
    "        except ImportError:\n",
    "            print(\"Installing required dependency openpyxl...\")\n",
    "            if install_openpyxl():\n",
    "                excel_df = pd.read_excel('data/chinook_data.xlsx')\n",
    "                print(\"Excel file loaded successfully after installing openpyxl!\")\n",
    "            else:\n",
    "                return None\n",
    "        \n",
    "        # Load CSV file\n",
    "        csv_df = pd.read_csv('data/chinook_data.csv')\n",
    "        print(\"CSV file loaded successfully!\")\n",
    "        \n",
    "        # Connect to SQLite and execute query\n",
    "        connection = sqlite3.connect('data/chinook.db')\n",
    "        query = \"\"\"\n",
    "        SELECT\n",
    "            t.Name as Track,\n",
    "            t.Composer,\n",
    "            t.UnitPrice,\n",
    "            g.Name as Genre,\n",
    "            a.Title as Album,\n",
    "            r.Name as Artist\n",
    "        FROM tracks t\n",
    "        JOIN genres g ON t.GenreId = g.GenreId\n",
    "        JOIN albums a ON t.AlbumId = a.AlbumId\n",
    "        JOIN artists r ON a.ArtistId = r.ArtistId;\n",
    "        \"\"\"\n",
    "        sql_df = pd.read_sql(query, connection)\n",
    "        print(\"SQL data loaded successfully!\")\n",
    "        \n",
    "        \n",
    "        itunes_df = pd.concat([csv_df, excel_df, sql_df], ignore_index=True)\n",
    "        print(\"Data combined successfully!\")\n",
    "        \n",
    "        # Close SQLite connection\n",
    "        connection.close()\n",
    "        \n",
    "        # Basic data analysis\n",
    "        print(\"\\nCombined Dataset Information:\")\n",
    "        print(f\"Total rows: {len(itunes_df)}\")\n",
    "        print(f\"Total columns: {len(itunes_df.columns)}\")\n",
    "        print(\"\\nColumns in combined dataset:\")\n",
    "        print(itunes_df.columns.tolist())\n",
    "        \n",
    "        return itunes_df\n",
    "        \n",
    "    except Exception as e:\n",
    "        print(f\"Error during data loading and combination: {e}\")\n",
    "        return None\n",
    "\n",
    "\n",
    "itunes_df = load_and_combine_data()\n",
    "\n",
    "if itunes_df is not None:\n",
    "    print(\"\\nFirst few rows of combined dataset:\")\n",
    "    print(itunes_df.head())\n",
    "    \n",
    "    print(\"\\nDataset summary:\")\n",
    "    print(itunes_df.info())\n",
    "    \n",
    "   \n",
    "    duplicates = itunes_df.duplicated().sum()\n",
    "    print(f\"\\nNumber of duplicate rows: {duplicates}\")\n",
    "    \n",
    "    \n",
    "    print(\"\\nNumerical columns statistics:\")\n",
    "    print(itunes_df.describe())"
   ]
  },
  {
   "cell_type": "markdown",
   "metadata": {},
   "source": [
    "### Basic Exploratory Data Analysis (EDA)."
   ]
  },
  {
   "cell_type": "code",
   "execution_count": 4,
   "metadata": {},
   "outputs": [
    {
     "data": {
      "text/plain": [
       "(4021, 8)"
      ]
     },
     "execution_count": 4,
     "metadata": {},
     "output_type": "execute_result"
    }
   ],
   "source": [
    "itunes_df.shape"
   ]
  },
  {
   "cell_type": "code",
   "execution_count": 5,
   "metadata": {},
   "outputs": [
    {
     "name": "stdout",
     "output_type": "stream",
     "text": [
      "<class 'pandas.core.frame.DataFrame'>\n",
      "RangeIndex: 4021 entries, 0 to 4020\n",
      "Data columns (total 8 columns):\n",
      " #   Column        Non-Null Count  Dtype  \n",
      "---  ------        --------------  -----  \n",
      " 0   Track         4021 non-null   object \n",
      " 1   Composer      2908 non-null   object \n",
      " 2   Milliseconds  518 non-null    float64\n",
      " 3   Bytes         518 non-null    float64\n",
      " 4   UnitPrice     4021 non-null   float64\n",
      " 5   Genre         4021 non-null   object \n",
      " 6   Album         4021 non-null   object \n",
      " 7   Artist        4021 non-null   object \n",
      "dtypes: float64(3), object(5)\n",
      "memory usage: 251.4+ KB\n"
     ]
    }
   ],
   "source": [
    "itunes_df.info()"
   ]
  },
  {
   "cell_type": "code",
   "execution_count": 6,
   "metadata": {},
   "outputs": [
    {
     "data": {
      "text/plain": [
       "Track              0\n",
       "Composer        1113\n",
       "Milliseconds    3503\n",
       "Bytes           3503\n",
       "UnitPrice          0\n",
       "Genre              0\n",
       "Album              0\n",
       "Artist             0\n",
       "dtype: int64"
      ]
     },
     "execution_count": 6,
     "metadata": {},
     "output_type": "execute_result"
    }
   ],
   "source": [
    "itunes_df.isna().sum()"
   ]
  },
  {
   "cell_type": "code",
   "execution_count": 7,
   "metadata": {},
   "outputs": [
    {
     "data": {
      "text/html": [
       "<div>\n",
       "<style scoped>\n",
       "    .dataframe tbody tr th:only-of-type {\n",
       "        vertical-align: middle;\n",
       "    }\n",
       "\n",
       "    .dataframe tbody tr th {\n",
       "        vertical-align: top;\n",
       "    }\n",
       "\n",
       "    .dataframe thead th {\n",
       "        text-align: right;\n",
       "    }\n",
       "</style>\n",
       "<table border=\"1\" class=\"dataframe\">\n",
       "  <thead>\n",
       "    <tr style=\"text-align: right;\">\n",
       "      <th></th>\n",
       "      <th>Milliseconds</th>\n",
       "      <th>Bytes</th>\n",
       "      <th>UnitPrice</th>\n",
       "    </tr>\n",
       "  </thead>\n",
       "  <tbody>\n",
       "    <tr>\n",
       "      <th>count</th>\n",
       "      <td>5.180000e+02</td>\n",
       "      <td>5.180000e+02</td>\n",
       "      <td>4021.000000</td>\n",
       "    </tr>\n",
       "    <tr>\n",
       "      <th>mean</th>\n",
       "      <td>3.868336e+05</td>\n",
       "      <td>3.040734e+07</td>\n",
       "      <td>1.050184</td>\n",
       "    </tr>\n",
       "    <tr>\n",
       "      <th>std</th>\n",
       "      <td>5.258469e+05</td>\n",
       "      <td>9.602387e+07</td>\n",
       "      <td>0.237857</td>\n",
       "    </tr>\n",
       "    <tr>\n",
       "      <th>min</th>\n",
       "      <td>4.884000e+03</td>\n",
       "      <td>1.612660e+05</td>\n",
       "      <td>0.990000</td>\n",
       "    </tr>\n",
       "    <tr>\n",
       "      <th>25%</th>\n",
       "      <td>2.049758e+05</td>\n",
       "      <td>6.493416e+06</td>\n",
       "      <td>0.990000</td>\n",
       "    </tr>\n",
       "    <tr>\n",
       "      <th>50%</th>\n",
       "      <td>2.526950e+05</td>\n",
       "      <td>8.098298e+06</td>\n",
       "      <td>0.990000</td>\n",
       "    </tr>\n",
       "    <tr>\n",
       "      <th>75%</th>\n",
       "      <td>3.225330e+05</td>\n",
       "      <td>1.010645e+07</td>\n",
       "      <td>0.990000</td>\n",
       "    </tr>\n",
       "    <tr>\n",
       "      <th>max</th>\n",
       "      <td>2.935894e+06</td>\n",
       "      <td>5.701522e+08</td>\n",
       "      <td>1.990000</td>\n",
       "    </tr>\n",
       "  </tbody>\n",
       "</table>\n",
       "</div>"
      ],
      "text/plain": [
       "       Milliseconds         Bytes    UnitPrice\n",
       "count  5.180000e+02  5.180000e+02  4021.000000\n",
       "mean   3.868336e+05  3.040734e+07     1.050184\n",
       "std    5.258469e+05  9.602387e+07     0.237857\n",
       "min    4.884000e+03  1.612660e+05     0.990000\n",
       "25%    2.049758e+05  6.493416e+06     0.990000\n",
       "50%    2.526950e+05  8.098298e+06     0.990000\n",
       "75%    3.225330e+05  1.010645e+07     0.990000\n",
       "max    2.935894e+06  5.701522e+08     1.990000"
      ]
     },
     "execution_count": 7,
     "metadata": {},
     "output_type": "execute_result"
    }
   ],
   "source": [
    "itunes_df.describe()"
   ]
  },
  {
   "cell_type": "code",
   "execution_count": 8,
   "metadata": {},
   "outputs": [
    {
     "data": {
      "image/png": "[encoded data removed]",
      "text/plain": [
       "<Figure size 640x480 with 1 Axes>"
      ]
     },
     "metadata": {},
     "output_type": "display_data"
    }
   ],
   "source": [
    "itunes_df[\"Milliseconds\"].hist()\n",
    "plt.show()"
   ]
  },
  {
   "cell_type": "code",
   "execution_count": 9,
   "metadata": {},
   "outputs": [
    {
     "data": {
      "image/png": "[encoded data removed]",
      "text/plain": [
       "<Figure size 640x480 with 1 Axes>"
      ]
     },
     "metadata": {},
     "output_type": "display_data"
    }
   ],
   "source": [
    "itunes_df['Genre'].value_counts().plot.bar()\n",
    "plt.show()"
   ]
  },
  {
   "cell_type": "markdown",
   "metadata": {},
   "source": [
    "### Basic Data Cleaning Operations."
   ]
  },
  {
   "cell_type": "code",
   "execution_count": 10,
   "metadata": {},
   "outputs": [],
   "source": [
    "import os\n",
    "os.makedirs('output', exist_ok=True)\n",
    "\n",
    "only_music = itunes_df[~itunes_df['Genre'].isin(['Drama', 'TV Shows', 'SciFi & Fantasy', 'Science Fiction', 'Comedy'])]\n",
    "only_music.to_excel('output/only_music.xlsx')"
   ]
  },
  {
   "cell_type": "code",
   "execution_count": 11,
   "metadata": {},
   "outputs": [],
   "source": [
    "itunes_df['Seconds'] = itunes_df['Milliseconds'] / 1000"
   ]
  },
  {
   "cell_type": "code",
   "execution_count": 12,
   "metadata": {},
   "outputs": [
    {
     "data": {
      "text/plain": [
       "0    498868.875\n",
       "1    295444.000\n",
       "2    155428.000\n",
       "3    498868.875\n",
       "4    231993.000\n",
       "Name: Milliseconds, dtype: float64"
      ]
     },
     "execution_count": 12,
     "metadata": {},
     "output_type": "execute_result"
    }
   ],
   "source": [
    "def remove_outliers(df, column):\n",
    "  q1 = df[column].quantile(0.25)\n",
    "  q3 = df[column].quantile(0.75)\n",
    "  iqr = q3 - q1\n",
    "  upper_boundary = q3 + 1.5 * iqr\n",
    "  lower_boundary = q1 - 1.5 * iqr\n",
    "  new_df = df[column].clip(lower =lower_boundary, upper=upper_boundary)\n",
    "  return new_df\n",
    "\n",
    "itunes_df_clean = remove_outliers(itunes_df, 'Milliseconds')\n",
    "itunes_df_clean.head()"
   ]
  },
  {
   "cell_type": "code",
   "execution_count": 13,
   "metadata": {},
   "outputs": [
    {
     "data": {
      "text/plain": [
       "np.int64(3577)"
      ]
     },
     "execution_count": 13,
     "metadata": {},
     "output_type": "execute_result"
    }
   ],
   "source": [
    "itunes_df_clean.duplicated().sum()"
   ]
  },
  {
   "cell_type": "code",
   "execution_count": 14,
   "metadata": {},
   "outputs": [
    {
     "data": {
      "text/plain": [
       "np.int64(0)"
      ]
     },
     "execution_count": 14,
     "metadata": {},
     "output_type": "execute_result"
    }
   ],
   "source": [
    "itunes_df_clean.drop_duplicates(inplace=True)\n",
    "itunes_df_clean.duplicated().sum()"
   ]
  },
  {
   "cell_type": "markdown",
   "metadata": {},
   "source": [
    "### save the cleaned dataset in an excel file "
   ]
  },
  {
   "cell_type": "code",
   "execution_count": 15,
   "metadata": {},
   "outputs": [],
   "source": [
    "itunes_df_clean.to_excel('output/cleaned_itunes.xlsx')"
   ]
  },
  {
   "cell_type": "markdown",
   "metadata": {},
   "source": [
    "## Challenge 3: Ingesting, Wrangling and Analyzing Bitcoin price data\n",
    "\n",
    "\n",
    "You have just joined a financial company as a new data scientist. The company is  interested in the Bitcon market and you are working with a team that aims to ingest data and then clean, and analyse the final dataset to be used later to build and evaluate machine learning models for Bitcon Price forecasting.\n",
    "\n",
    "The company is working with two datasets coming from two different sources and is only interested in the `BTCUSD` currency: \n",
    "1. One dataset is json file locally existed in the data folder: `bitcoin_price.json`. This file contains data up to `2020-11-27`\n",
    "2. The other uses a real time data flow that comes from yahoo finance api service. The company wants to collect real time data beginning from `2020-11-28` to `2022-10-31`.\n",
    "\n",
    "You are asked to do the required checklist procedures and operations to load, clean, and analyse, and then deliver your results to the executive team with providing a short summaray of your prelimanary EDA work from pandas and save the cleaner dataset as a new csv file. \n",
    "Note that the \n"
   ]
  },
  {
   "cell_type": "code",
   "execution_count": 16,
   "metadata": {},
   "outputs": [
    {
     "data": {
      "text/html": [
       "<div>\n",
       "<style scoped>\n",
       "    .dataframe tbody tr th:only-of-type {\n",
       "        vertical-align: middle;\n",
       "    }\n",
       "\n",
       "    .dataframe tbody tr th {\n",
       "        vertical-align: top;\n",
       "    }\n",
       "\n",
       "    .dataframe thead th {\n",
       "        text-align: right;\n",
       "    }\n",
       "</style>\n",
       "<table border=\"1\" class=\"dataframe\">\n",
       "  <thead>\n",
       "    <tr style=\"text-align: right;\">\n",
       "      <th></th>\n",
       "      <th>symbol</th>\n",
       "      <th>time</th>\n",
       "      <th>open</th>\n",
       "      <th>close</th>\n",
       "      <th>high</th>\n",
       "      <th>low</th>\n",
       "      <th>volume</th>\n",
       "    </tr>\n",
       "  </thead>\n",
       "  <tbody>\n",
       "    <tr>\n",
       "      <th>0</th>\n",
       "      <td>btcusd</td>\n",
       "      <td>1364688000000</td>\n",
       "      <td>92.500000</td>\n",
       "      <td>93.033000</td>\n",
       "      <td>93.74999</td>\n",
       "      <td>91.00000</td>\n",
       "      <td>3083.079791</td>\n",
       "    </tr>\n",
       "    <tr>\n",
       "      <th>1</th>\n",
       "      <td>btcusd</td>\n",
       "      <td>1364774400000</td>\n",
       "      <td>93.250000</td>\n",
       "      <td>103.999000</td>\n",
       "      <td>105.90000</td>\n",
       "      <td>92.49999</td>\n",
       "      <td>5224.401313</td>\n",
       "    </tr>\n",
       "    <tr>\n",
       "      <th>2</th>\n",
       "      <td>btcusd</td>\n",
       "      <td>1364860800000</td>\n",
       "      <td>104.000000</td>\n",
       "      <td>118.229354</td>\n",
       "      <td>118.38670</td>\n",
       "      <td>99.00000</td>\n",
       "      <td>8376.527478</td>\n",
       "    </tr>\n",
       "    <tr>\n",
       "      <th>3</th>\n",
       "      <td>btcusd</td>\n",
       "      <td>1364947200000</td>\n",
       "      <td>117.958261</td>\n",
       "      <td>134.700000</td>\n",
       "      <td>146.88000</td>\n",
       "      <td>101.51088</td>\n",
       "      <td>12996.245072</td>\n",
       "    </tr>\n",
       "    <tr>\n",
       "      <th>4</th>\n",
       "      <td>btcusd</td>\n",
       "      <td>1365033600000</td>\n",
       "      <td>134.716560</td>\n",
       "      <td>132.899000</td>\n",
       "      <td>143.00000</td>\n",
       "      <td>119.00000</td>\n",
       "      <td>6981.668305</td>\n",
       "    </tr>\n",
       "  </tbody>\n",
       "</table>\n",
       "</div>"
      ],
      "text/plain": [
       "   symbol           time        open       close       high        low  \\\n",
       "0  btcusd  1364688000000   92.500000   93.033000   93.74999   91.00000   \n",
       "1  btcusd  1364774400000   93.250000  103.999000  105.90000   92.49999   \n",
       "2  btcusd  1364860800000  104.000000  118.229354  118.38670   99.00000   \n",
       "3  btcusd  1364947200000  117.958261  134.700000  146.88000  101.51088   \n",
       "4  btcusd  1365033600000  134.716560  132.899000  143.00000  119.00000   \n",
       "\n",
       "         volume  \n",
       "0   3083.079791  \n",
       "1   5224.401313  \n",
       "2   8376.527478  \n",
       "3  12996.245072  \n",
       "4   6981.668305  "
      ]
     },
     "execution_count": 16,
     "metadata": {},
     "output_type": "execute_result"
    }
   ],
   "source": [
    "import json\n",
    "\n",
    "with open('data/bitcoin_price.json') as f:\n",
    "    data = json.load(f)\n",
    "\n",
    "btc_df_jsn=pd.DataFrame.from_dict(data)\n",
    "btc_df_jsn.head()"
   ]
  },
  {
   "cell_type": "code",
   "execution_count": 17,
   "metadata": {},
   "outputs": [
    {
     "name": "stdout",
     "output_type": "stream",
     "text": [
      "\u001b[33mDEPRECATION: Loading egg at /Library/Frameworks/Python.framework/Versions/3.11/lib/python3.11/site-packages/jupyter-1.0.0-py3.11.egg is deprecated. pip 24.3 will enforce this behaviour change. A possible replacement is to use pip for package installation. Discussion can be found at https://github.com/pypa/pip/issues/12330\u001b[0m\u001b[33m\n",
      "\u001b[0mRequirement already satisfied: yfinance in /Library/Frameworks/Python.framework/Versions/3.11/lib/python3.11/site-packages (0.2.48)\n",
      "Requirement already satisfied: pandas>=1.3.0 in /Library/Frameworks/Python.framework/Versions/3.11/lib/python3.11/site-packages (from yfinance) (2.2.3)\n",
      "Requirement already satisfied: numpy>=1.16.5 in /Library/Frameworks/Python.framework/Versions/3.11/lib/python3.11/site-packages (from yfinance) (2.0.2)\n",
      "Requirement already satisfied: requests>=2.31 in /Library/Frameworks/Python.framework/Versions/3.11/lib/python3.11/site-packages (from yfinance) (2.32.3)\n",
      "Requirement already satisfied: multitasking>=0.0.7 in /Library/Frameworks/Python.framework/Versions/3.11/lib/python3.11/site-packages (from yfinance) (0.0.11)\n",
      "Requirement already satisfied: lxml>=4.9.1 in /Library/Frameworks/Python.framework/Versions/3.11/lib/python3.11/site-packages (from yfinance) (5.3.0)\n",
      "Requirement already satisfied: platformdirs>=2.0.0 in /Library/Frameworks/Python.framework/Versions/3.11/lib/python3.11/site-packages (from yfinance) (3.1.1)\n",
      "Requirement already satisfied: pytz>=2022.5 in /Library/Frameworks/Python.framework/Versions/3.11/lib/python3.11/site-packages (from yfinance) (2024.2)\n",
      "Requirement already satisfied: frozendict>=2.3.4 in /Library/Frameworks/Python.framework/Versions/3.11/lib/python3.11/site-packages (from yfinance) (2.4.6)\n",
      "Requirement already satisfied: peewee>=3.16.2 in /Library/Frameworks/Python.framework/Versions/3.11/lib/python3.11/site-packages (from yfinance) (3.17.7)\n",
      "Requirement already satisfied: beautifulsoup4>=4.11.1 in /Library/Frameworks/Python.framework/Versions/3.11/lib/python3.11/site-packages (from yfinance) (4.12.3)\n",
      "Requirement already satisfied: html5lib>=1.1 in /Library/Frameworks/Python.framework/Versions/3.11/lib/python3.11/site-packages (from yfinance) (1.1)\n",
      "Requirement already satisfied: soupsieve>1.2 in /Library/Frameworks/Python.framework/Versions/3.11/lib/python3.11/site-packages (from beautifulsoup4>=4.11.1->yfinance) (2.6)\n",
      "Requirement already satisfied: six>=1.9 in /Library/Frameworks/Python.framework/Versions/3.11/lib/python3.11/site-packages (from html5lib>=1.1->yfinance) (1.17.0)\n",
      "Requirement already satisfied: webencodings in /Library/Frameworks/Python.framework/Versions/3.11/lib/python3.11/site-packages (from html5lib>=1.1->yfinance) (0.5.1)\n",
      "Requirement already satisfied: python-dateutil>=2.8.2 in /Library/Frameworks/Python.framework/Versions/3.11/lib/python3.11/site-packages (from pandas>=1.3.0->yfinance) (2.9.0.post0)\n",
      "Requirement already satisfied: tzdata>=2022.7 in /Library/Frameworks/Python.framework/Versions/3.11/lib/python3.11/site-packages (from pandas>=1.3.0->yfinance) (2024.2)\n",
      "Requirement already satisfied: charset-normalizer<4,>=2 in /Library/Frameworks/Python.framework/Versions/3.11/lib/python3.11/site-packages (from requests>=2.31->yfinance) (3.3.2)\n",
      "Requirement already satisfied: idna<4,>=2.5 in /Library/Frameworks/Python.framework/Versions/3.11/lib/python3.11/site-packages (from requests>=2.31->yfinance) (3.10)\n",
      "Requirement already satisfied: urllib3<3,>=1.21.1 in /Library/Frameworks/Python.framework/Versions/3.11/lib/python3.11/site-packages (from requests>=2.31->yfinance) (2.2.3)\n",
      "Requirement already satisfied: certifi>=2017.4.17 in /Library/Frameworks/Python.framework/Versions/3.11/lib/python3.11/site-packages (from requests>=2.31->yfinance) (2024.8.30)\n",
      "\n",
      "\u001b[1m[\u001b[0m\u001b[34;49mnotice\u001b[0m\u001b[1;39;49m]\u001b[0m\u001b[39;49m A new release of pip is available: \u001b[0m\u001b[31;49m24.2\u001b[0m\u001b[39;49m -> \u001b[0m\u001b[32;49m24.3.1\u001b[0m\n",
      "\u001b[1m[\u001b[0m\u001b[34;49mnotice\u001b[0m\u001b[1;39;49m]\u001b[0m\u001b[39;49m To update, run: \u001b[0m\u001b[32;49mpip3 install --upgrade pip\u001b[0m\n",
      "Note: you may need to restart the kernel to use updated packages.\n"
     ]
    }
   ],
   "source": [
    "%pip install yfinance"
   ]
  },
  {
   "cell_type": "code",
   "execution_count": 18,
   "metadata": {},
   "outputs": [
    {
     "name": "stderr",
     "output_type": "stream",
     "text": [
      "[*********************100%***********************]  1 of 1 completed\n"
     ]
    },
    {
     "data": {
      "text/html": [
       "<div>\n",
       "<style scoped>\n",
       "    .dataframe tbody tr th:only-of-type {\n",
       "        vertical-align: middle;\n",
       "    }\n",
       "\n",
       "    .dataframe tbody tr th {\n",
       "        vertical-align: top;\n",
       "    }\n",
       "\n",
       "    .dataframe thead tr th {\n",
       "        text-align: left;\n",
       "    }\n",
       "\n",
       "    .dataframe thead tr:last-of-type th {\n",
       "        text-align: right;\n",
       "    }\n",
       "</style>\n",
       "<table border=\"1\" class=\"dataframe\">\n",
       "  <thead>\n",
       "    <tr>\n",
       "      <th>Price</th>\n",
       "      <th>Adj Close</th>\n",
       "      <th>Close</th>\n",
       "      <th>High</th>\n",
       "      <th>Low</th>\n",
       "      <th>Open</th>\n",
       "      <th>Volume</th>\n",
       "    </tr>\n",
       "    <tr>\n",
       "      <th>Ticker</th>\n",
       "      <th>BTC-USD</th>\n",
       "      <th>BTC-USD</th>\n",
       "      <th>BTC-USD</th>\n",
       "      <th>BTC-USD</th>\n",
       "      <th>BTC-USD</th>\n",
       "      <th>BTC-USD</th>\n",
       "    </tr>\n",
       "    <tr>\n",
       "      <th>Date</th>\n",
       "      <th></th>\n",
       "      <th></th>\n",
       "      <th></th>\n",
       "      <th></th>\n",
       "      <th></th>\n",
       "      <th></th>\n",
       "    </tr>\n",
       "  </thead>\n",
       "  <tbody>\n",
       "    <tr>\n",
       "      <th>2024-01-08 00:00:00+00:00</th>\n",
       "      <td>46970.503906</td>\n",
       "      <td>46970.503906</td>\n",
       "      <td>47218.000000</td>\n",
       "      <td>43244.082031</td>\n",
       "      <td>43948.707031</td>\n",
       "      <td>42746192015</td>\n",
       "    </tr>\n",
       "    <tr>\n",
       "      <th>2024-01-09 00:00:00+00:00</th>\n",
       "      <td>46139.730469</td>\n",
       "      <td>46139.730469</td>\n",
       "      <td>47893.699219</td>\n",
       "      <td>45244.714844</td>\n",
       "      <td>46987.640625</td>\n",
       "      <td>39821290992</td>\n",
       "    </tr>\n",
       "    <tr>\n",
       "      <th>2024-01-10 00:00:00+00:00</th>\n",
       "      <td>46627.777344</td>\n",
       "      <td>46627.777344</td>\n",
       "      <td>47647.222656</td>\n",
       "      <td>44483.152344</td>\n",
       "      <td>46121.539062</td>\n",
       "      <td>50114613298</td>\n",
       "    </tr>\n",
       "    <tr>\n",
       "      <th>2024-01-11 00:00:00+00:00</th>\n",
       "      <td>46368.585938</td>\n",
       "      <td>46368.585938</td>\n",
       "      <td>48969.371094</td>\n",
       "      <td>45678.644531</td>\n",
       "      <td>46656.074219</td>\n",
       "      <td>45833734549</td>\n",
       "    </tr>\n",
       "    <tr>\n",
       "      <th>2024-01-12 00:00:00+00:00</th>\n",
       "      <td>42853.167969</td>\n",
       "      <td>42853.167969</td>\n",
       "      <td>46498.136719</td>\n",
       "      <td>41903.769531</td>\n",
       "      <td>46354.792969</td>\n",
       "      <td>43332698900</td>\n",
       "    </tr>\n",
       "  </tbody>\n",
       "</table>\n",
       "</div>"
      ],
      "text/plain": [
       "Price                         Adj Close         Close          High  \\\n",
       "Ticker                          BTC-USD       BTC-USD       BTC-USD   \n",
       "Date                                                                  \n",
       "2024-01-08 00:00:00+00:00  46970.503906  46970.503906  47218.000000   \n",
       "2024-01-09 00:00:00+00:00  46139.730469  46139.730469  47893.699219   \n",
       "2024-01-10 00:00:00+00:00  46627.777344  46627.777344  47647.222656   \n",
       "2024-01-11 00:00:00+00:00  46368.585938  46368.585938  48969.371094   \n",
       "2024-01-12 00:00:00+00:00  42853.167969  42853.167969  46498.136719   \n",
       "\n",
       "Price                               Low          Open       Volume  \n",
       "Ticker                          BTC-USD       BTC-USD      BTC-USD  \n",
       "Date                                                                \n",
       "2024-01-08 00:00:00+00:00  43244.082031  43948.707031  42746192015  \n",
       "2024-01-09 00:00:00+00:00  45244.714844  46987.640625  39821290992  \n",
       "2024-01-10 00:00:00+00:00  44483.152344  46121.539062  50114613298  \n",
       "2024-01-11 00:00:00+00:00  45678.644531  46656.074219  45833734549  \n",
       "2024-01-12 00:00:00+00:00  41903.769531  46354.792969  43332698900  "
      ]
     },
     "execution_count": 18,
     "metadata": {},
     "output_type": "execute_result"
    }
   ],
   "source": [
    "import yfinance as yf\n",
    "\n",
    "btc_yf_df = yf.download('BTC-USD', start='2024-1-8', end='2024-11-1', interval='1d')\n",
    "\n",
    "btc_yf_df.head()"
   ]
  },
  {
   "cell_type": "code",
   "execution_count": 19,
   "metadata": {},
   "outputs": [],
   "source": [
    "btc_df_jsn.rename(columns={'time': 'Date'}, inplace=True)\n",
    "btc_df_jsn['Date'] = pd.to_datetime(btc_df_jsn['Date'], unit='ms')\n",
    "btc_df_jsn.set_index('Date', inplace=True)\n"
   ]
  },
  {
   "cell_type": "code",
   "execution_count": 20,
   "metadata": {},
   "outputs": [
    {
     "data": {
      "text/html": [
       "<div>\n",
       "<style scoped>\n",
       "    .dataframe tbody tr th:only-of-type {\n",
       "        vertical-align: middle;\n",
       "    }\n",
       "\n",
       "    .dataframe tbody tr th {\n",
       "        vertical-align: top;\n",
       "    }\n",
       "\n",
       "    .dataframe thead th {\n",
       "        text-align: right;\n",
       "    }\n",
       "</style>\n",
       "<table border=\"1\" class=\"dataframe\">\n",
       "  <thead>\n",
       "    <tr style=\"text-align: right;\">\n",
       "      <th></th>\n",
       "      <th>symbol</th>\n",
       "      <th>open</th>\n",
       "      <th>close</th>\n",
       "      <th>high</th>\n",
       "      <th>low</th>\n",
       "      <th>volume</th>\n",
       "    </tr>\n",
       "    <tr>\n",
       "      <th>Date</th>\n",
       "      <th></th>\n",
       "      <th></th>\n",
       "      <th></th>\n",
       "      <th></th>\n",
       "      <th></th>\n",
       "      <th></th>\n",
       "    </tr>\n",
       "  </thead>\n",
       "  <tbody>\n",
       "    <tr>\n",
       "      <th>2013-03-31</th>\n",
       "      <td>btcusd</td>\n",
       "      <td>92.500000</td>\n",
       "      <td>93.033000</td>\n",
       "      <td>93.74999</td>\n",
       "      <td>91.00000</td>\n",
       "      <td>3083.079791</td>\n",
       "    </tr>\n",
       "    <tr>\n",
       "      <th>2013-04-01</th>\n",
       "      <td>btcusd</td>\n",
       "      <td>93.250000</td>\n",
       "      <td>103.999000</td>\n",
       "      <td>105.90000</td>\n",
       "      <td>92.49999</td>\n",
       "      <td>5224.401313</td>\n",
       "    </tr>\n",
       "    <tr>\n",
       "      <th>2013-04-02</th>\n",
       "      <td>btcusd</td>\n",
       "      <td>104.000000</td>\n",
       "      <td>118.229354</td>\n",
       "      <td>118.38670</td>\n",
       "      <td>99.00000</td>\n",
       "      <td>8376.527478</td>\n",
       "    </tr>\n",
       "    <tr>\n",
       "      <th>2013-04-03</th>\n",
       "      <td>btcusd</td>\n",
       "      <td>117.958261</td>\n",
       "      <td>134.700000</td>\n",
       "      <td>146.88000</td>\n",
       "      <td>101.51088</td>\n",
       "      <td>12996.245072</td>\n",
       "    </tr>\n",
       "    <tr>\n",
       "      <th>2013-04-04</th>\n",
       "      <td>btcusd</td>\n",
       "      <td>134.716560</td>\n",
       "      <td>132.899000</td>\n",
       "      <td>143.00000</td>\n",
       "      <td>119.00000</td>\n",
       "      <td>6981.668305</td>\n",
       "    </tr>\n",
       "  </tbody>\n",
       "</table>\n",
       "</div>"
      ],
      "text/plain": [
       "            symbol        open       close       high        low        volume\n",
       "Date                                                                          \n",
       "2013-03-31  btcusd   92.500000   93.033000   93.74999   91.00000   3083.079791\n",
       "2013-04-01  btcusd   93.250000  103.999000  105.90000   92.49999   5224.401313\n",
       "2013-04-02  btcusd  104.000000  118.229354  118.38670   99.00000   8376.527478\n",
       "2013-04-03  btcusd  117.958261  134.700000  146.88000  101.51088  12996.245072\n",
       "2013-04-04  btcusd  134.716560  132.899000  143.00000  119.00000   6981.668305"
      ]
     },
     "execution_count": 20,
     "metadata": {},
     "output_type": "execute_result"
    }
   ],
   "source": [
    "btc_df_jsn.head()\n"
   ]
  },
  {
   "cell_type": "code",
   "execution_count": 21,
   "metadata": {},
   "outputs": [
    {
     "data": {
      "text/html": [
       "<div>\n",
       "<style scoped>\n",
       "    .dataframe tbody tr th:only-of-type {\n",
       "        vertical-align: middle;\n",
       "    }\n",
       "\n",
       "    .dataframe tbody tr th {\n",
       "        vertical-align: top;\n",
       "    }\n",
       "\n",
       "    .dataframe thead th {\n",
       "        text-align: right;\n",
       "    }\n",
       "</style>\n",
       "<table border=\"1\" class=\"dataframe\">\n",
       "  <thead>\n",
       "    <tr style=\"text-align: right;\">\n",
       "      <th></th>\n",
       "      <th>symbol</th>\n",
       "      <th>close</th>\n",
       "      <th>high</th>\n",
       "      <th>low</th>\n",
       "      <th>open</th>\n",
       "      <th>volume</th>\n",
       "    </tr>\n",
       "    <tr>\n",
       "      <th>Date</th>\n",
       "      <th></th>\n",
       "      <th></th>\n",
       "      <th></th>\n",
       "      <th></th>\n",
       "      <th></th>\n",
       "      <th></th>\n",
       "    </tr>\n",
       "  </thead>\n",
       "  <tbody>\n",
       "    <tr>\n",
       "      <th>2024-01-08 00:00:00+00:00</th>\n",
       "      <td>btcusd</td>\n",
       "      <td>46970.503906</td>\n",
       "      <td>47218.000000</td>\n",
       "      <td>43244.082031</td>\n",
       "      <td>43948.707031</td>\n",
       "      <td>42746192015</td>\n",
       "    </tr>\n",
       "    <tr>\n",
       "      <th>2024-01-09 00:00:00+00:00</th>\n",
       "      <td>btcusd</td>\n",
       "      <td>46139.730469</td>\n",
       "      <td>47893.699219</td>\n",
       "      <td>45244.714844</td>\n",
       "      <td>46987.640625</td>\n",
       "      <td>39821290992</td>\n",
       "    </tr>\n",
       "    <tr>\n",
       "      <th>2024-01-10 00:00:00+00:00</th>\n",
       "      <td>btcusd</td>\n",
       "      <td>46627.777344</td>\n",
       "      <td>47647.222656</td>\n",
       "      <td>44483.152344</td>\n",
       "      <td>46121.539062</td>\n",
       "      <td>50114613298</td>\n",
       "    </tr>\n",
       "    <tr>\n",
       "      <th>2024-01-11 00:00:00+00:00</th>\n",
       "      <td>btcusd</td>\n",
       "      <td>46368.585938</td>\n",
       "      <td>48969.371094</td>\n",
       "      <td>45678.644531</td>\n",
       "      <td>46656.074219</td>\n",
       "      <td>45833734549</td>\n",
       "    </tr>\n",
       "    <tr>\n",
       "      <th>2024-01-12 00:00:00+00:00</th>\n",
       "      <td>btcusd</td>\n",
       "      <td>42853.167969</td>\n",
       "      <td>46498.136719</td>\n",
       "      <td>41903.769531</td>\n",
       "      <td>46354.792969</td>\n",
       "      <td>43332698900</td>\n",
       "    </tr>\n",
       "  </tbody>\n",
       "</table>\n",
       "</div>"
      ],
      "text/plain": [
       "                           symbol         close          high           low  \\\n",
       "Date                                                                          \n",
       "2024-01-08 00:00:00+00:00  btcusd  46970.503906  47218.000000  43244.082031   \n",
       "2024-01-09 00:00:00+00:00  btcusd  46139.730469  47893.699219  45244.714844   \n",
       "2024-01-10 00:00:00+00:00  btcusd  46627.777344  47647.222656  44483.152344   \n",
       "2024-01-11 00:00:00+00:00  btcusd  46368.585938  48969.371094  45678.644531   \n",
       "2024-01-12 00:00:00+00:00  btcusd  42853.167969  46498.136719  41903.769531   \n",
       "\n",
       "                                   open       volume  \n",
       "Date                                                  \n",
       "2024-01-08 00:00:00+00:00  43948.707031  42746192015  \n",
       "2024-01-09 00:00:00+00:00  46987.640625  39821290992  \n",
       "2024-01-10 00:00:00+00:00  46121.539062  50114613298  \n",
       "2024-01-11 00:00:00+00:00  46656.074219  45833734549  \n",
       "2024-01-12 00:00:00+00:00  46354.792969  43332698900  "
      ]
     },
     "execution_count": 21,
     "metadata": {},
     "output_type": "execute_result"
    }
   ],
   "source": [
    "\n",
    "btc_yf_df.columns = [col[0].lower() for col in btc_yf_df.columns]\n",
    "\n",
    "btc_yf_df.rename(columns={'adj close': 'symbol'}, inplace=True)\n",
    "btc_yf_df['symbol'] = 'btcusd'\n",
    "\n",
    "btc_yf_df.head()\n"
   ]
  },
  {
   "cell_type": "markdown",
   "metadata": {},
   "source": [
    "### Concatenate the DataFrames"
   ]
  },
  {
   "cell_type": "code",
   "execution_count": 22,
   "metadata": {},
   "outputs": [
    {
     "data": {
      "text/html": [
       "<div>\n",
       "<style scoped>\n",
       "    .dataframe tbody tr th:only-of-type {\n",
       "        vertical-align: middle;\n",
       "    }\n",
       "\n",
       "    .dataframe tbody tr th {\n",
       "        vertical-align: top;\n",
       "    }\n",
       "\n",
       "    .dataframe thead th {\n",
       "        text-align: right;\n",
       "    }\n",
       "</style>\n",
       "<table border=\"1\" class=\"dataframe\">\n",
       "  <thead>\n",
       "    <tr style=\"text-align: right;\">\n",
       "      <th></th>\n",
       "      <th>symbol</th>\n",
       "      <th>open</th>\n",
       "      <th>close</th>\n",
       "      <th>high</th>\n",
       "      <th>low</th>\n",
       "      <th>volume</th>\n",
       "    </tr>\n",
       "    <tr>\n",
       "      <th>Date</th>\n",
       "      <th></th>\n",
       "      <th></th>\n",
       "      <th></th>\n",
       "      <th></th>\n",
       "      <th></th>\n",
       "      <th></th>\n",
       "    </tr>\n",
       "  </thead>\n",
       "  <tbody>\n",
       "    <tr>\n",
       "      <th>2013-03-31 00:00:00</th>\n",
       "      <td>btcusd</td>\n",
       "      <td>92.500000</td>\n",
       "      <td>93.033000</td>\n",
       "      <td>93.74999</td>\n",
       "      <td>91.00000</td>\n",
       "      <td>3083.079791</td>\n",
       "    </tr>\n",
       "    <tr>\n",
       "      <th>2013-04-01 00:00:00</th>\n",
       "      <td>btcusd</td>\n",
       "      <td>93.250000</td>\n",
       "      <td>103.999000</td>\n",
       "      <td>105.90000</td>\n",
       "      <td>92.49999</td>\n",
       "      <td>5224.401313</td>\n",
       "    </tr>\n",
       "    <tr>\n",
       "      <th>2013-04-02 00:00:00</th>\n",
       "      <td>btcusd</td>\n",
       "      <td>104.000000</td>\n",
       "      <td>118.229354</td>\n",
       "      <td>118.38670</td>\n",
       "      <td>99.00000</td>\n",
       "      <td>8376.527478</td>\n",
       "    </tr>\n",
       "    <tr>\n",
       "      <th>2013-04-03 00:00:00</th>\n",
       "      <td>btcusd</td>\n",
       "      <td>117.958261</td>\n",
       "      <td>134.700000</td>\n",
       "      <td>146.88000</td>\n",
       "      <td>101.51088</td>\n",
       "      <td>12996.245072</td>\n",
       "    </tr>\n",
       "    <tr>\n",
       "      <th>2013-04-04 00:00:00</th>\n",
       "      <td>btcusd</td>\n",
       "      <td>134.716560</td>\n",
       "      <td>132.899000</td>\n",
       "      <td>143.00000</td>\n",
       "      <td>119.00000</td>\n",
       "      <td>6981.668305</td>\n",
       "    </tr>\n",
       "  </tbody>\n",
       "</table>\n",
       "</div>"
      ],
      "text/plain": [
       "                     symbol        open       close       high        low  \\\n",
       "Date                                                                        \n",
       "2013-03-31 00:00:00  btcusd   92.500000   93.033000   93.74999   91.00000   \n",
       "2013-04-01 00:00:00  btcusd   93.250000  103.999000  105.90000   92.49999   \n",
       "2013-04-02 00:00:00  btcusd  104.000000  118.229354  118.38670   99.00000   \n",
       "2013-04-03 00:00:00  btcusd  117.958261  134.700000  146.88000  101.51088   \n",
       "2013-04-04 00:00:00  btcusd  134.716560  132.899000  143.00000  119.00000   \n",
       "\n",
       "                           volume  \n",
       "Date                               \n",
       "2013-03-31 00:00:00   3083.079791  \n",
       "2013-04-01 00:00:00   5224.401313  \n",
       "2013-04-02 00:00:00   8376.527478  \n",
       "2013-04-03 00:00:00  12996.245072  \n",
       "2013-04-04 00:00:00   6981.668305  "
      ]
     },
     "execution_count": 22,
     "metadata": {},
     "output_type": "execute_result"
    }
   ],
   "source": [
    "\n",
    "btc_combined_df = pd.concat([btc_df_jsn, btc_yf_df])\n",
    "btc_combined_df.head()"
   ]
  },
  {
   "cell_type": "code",
   "execution_count": 23,
   "metadata": {},
   "outputs": [
    {
     "name": "stderr",
     "output_type": "stream",
     "text": [
      "/Library/Frameworks/Python.framework/Versions/3.11/lib/python3.11/site-packages/matplotlib/dates.py:449: UserWarning: no explicit representation of timezones available for np.datetime64\n",
      "  d = d.astype('datetime64[us]')\n",
      "/Library/Frameworks/Python.framework/Versions/3.11/lib/python3.11/site-packages/matplotlib/dates.py:449: UserWarning: no explicit representation of timezones available for np.datetime64\n",
      "  d = d.astype('datetime64[us]')\n",
      "/Library/Frameworks/Python.framework/Versions/3.11/lib/python3.11/site-packages/matplotlib/dates.py:449: UserWarning: no explicit representation of timezones available for np.datetime64\n",
      "  d = d.astype('datetime64[us]')\n",
      "/Library/Frameworks/Python.framework/Versions/3.11/lib/python3.11/site-packages/matplotlib/dates.py:449: UserWarning: no explicit representation of timezones available for np.datetime64\n",
      "  d = d.astype('datetime64[us]')\n",
      "/Library/Frameworks/Python.framework/Versions/3.11/lib/python3.11/site-packages/matplotlib/dates.py:449: UserWarning: no explicit representation of timezones available for np.datetime64\n",
      "  d = d.astype('datetime64[us]')\n"
     ]
    },
    {
     "data": {
      "image/png": "[encoded data removed]",
      "text/plain": [
       "<Figure size 1000x1200 with 5 Axes>"
      ]
     },
     "metadata": {},
     "output_type": "display_data"
    }
   ],
   "source": [
    "btc_combined_df[['open', 'close', 'high', 'low', 'volume']].plot(subplots=True, figsize=(10, 12), title=\"Bitcoin Time Series Data\")\n",
    "plt.show()"
   ]
  },
  {
   "cell_type": "code",
   "execution_count": 24,
   "metadata": {},
   "outputs": [
    {
     "name": "stdout",
     "output_type": "stream",
     "text": [
      "            open     close      high       low    volume\n",
      "open    1.000000  0.999446  0.999730  0.999617  0.885591\n",
      "close   0.999446  1.000000  0.999790  0.999708  0.885117\n",
      "high    0.999730  0.999790  1.000000  0.999528  0.888190\n",
      "low     0.999617  0.999708  0.999528  1.000000  0.880512\n",
      "volume  0.885591  0.885117  0.888190  0.880512  1.000000\n"
     ]
    }
   ],
   "source": [
    "correlation_matrix = btc_combined_df.select_dtypes(include=['float64', 'int64']).corr()\n",
    "print(correlation_matrix)\n"
   ]
  },
  {
   "cell_type": "code",
   "execution_count": 25,
   "metadata": {},
   "outputs": [
    {
     "data": {
      "text/plain": [
       "symbol    0\n",
       "open      0\n",
       "close     0\n",
       "high      0\n",
       "low       0\n",
       "volume    0\n",
       "dtype: int64"
      ]
     },
     "execution_count": 25,
     "metadata": {},
     "output_type": "execute_result"
    }
   ],
   "source": [
    "btc_combined_df.isna().sum()"
   ]
  },
  {
   "cell_type": "code",
   "execution_count": 26,
   "metadata": {},
   "outputs": [
    {
     "name": "stderr",
     "output_type": "stream",
     "text": [
      "/var/folders/q9/88_t1n3s1xj_q8ypb1x9qbfw0000gn/T/ipykernel_4372/1160490180.py:1: FutureWarning: A value is trying to be set on a copy of a DataFrame or Series through chained assignment using an inplace method.\n",
      "The behavior will change in pandas 3.0. This inplace method will never work because the intermediate object on which we are setting values always behaves as a copy.\n",
      "\n",
      "For example, when doing 'df[col].method(value, inplace=True)', try using 'df.method({col: value}, inplace=True)' or df[col] = df[col].method(value) instead, to perform the operation inplace on the original object.\n",
      "\n",
      "\n",
      "  btc_combined_df['symbol'].fillna(btc_combined_df['symbol'].value_counts().index[0], inplace=True)\n"
     ]
    }
   ],
   "source": [
    "btc_combined_df['symbol'].fillna(btc_combined_df['symbol'].value_counts().index[0], inplace=True)"
   ]
  },
  {
   "cell_type": "code",
   "execution_count": 27,
   "metadata": {},
   "outputs": [
    {
     "data": {
      "image/png": "[encoded data removed]",
      "text/plain": [
       "<Figure size 640x480 with 1 Axes>"
      ]
     },
     "metadata": {},
     "output_type": "display_data"
    }
   ],
   "source": [
    "btc_combined_df['low'][::150].plot.bar()\n",
    "plt.show()"
   ]
  },
  {
   "cell_type": "code",
   "execution_count": 28,
   "metadata": {},
   "outputs": [],
   "source": [
    "btc_combined_df.to_csv('output/btc_combined_df.csv')"
   ]
  },
  {
   "cell_type": "markdown",
   "metadata": {},
   "source": [
    "\n",
    "`Hint:`\n",
    "\n",
    "1. To load a json file into a dataframe use the snipet code below:\n",
    "\n",
    "```python\n",
    "import json\n",
    "\n",
    "with open('<path_to_your_json_file>') as f:\n",
    "    data = json.load(f)\n",
    "\n",
    "btc_df_jsn=pd.DataFrame.from_dict(data)\n",
    "```\n",
    "\n",
    "This code uses the `json` built-in python module to open a json file and load it in an object data. Then we use the `from_dict()` pandas method to transform the json data into a DataFrame.\n",
    "\n",
    "2. To get real time data flow from the yahoo finance api sevice we will use the `yfinance` module. \n",
    "    * So, first install the module in your environment using  `conda install yfinance`.\n",
    "    * Then use the code below to get real data. Test with the periode from `2020-01-01` to `2024-10-31`.\n",
    "\n",
    "```python\n",
    "import yfinance as yf\n",
    "\n",
    "btc_yf_df = yf.download('BTC-USD', # The currency we are intersted in\n",
    "                   start='<start_date>', # The starting date\n",
    "                   end='<end_date>', # The starting date\n",
    "                   interval='1d' # The frequency of collecting the data. here 1 day\n",
    "                  )\n",
    "```\n",
    "\n",
    "3. Get a look of the two DataFrames and see what are the common columns and what differ one to another.\n",
    "\n",
    "    * You will notice that the  json DataFrame is indexed numericaly wherease the yahoo DataFrame is indexed by Date. So, you have to uniform the index for both DataFrames. In this case we will change the json DataFrame  index by Date.\n",
    "        1. To do that, first rename the column `time` to `Date` by using the built-in pandas method: `rename()` as follows:\n",
    "\t\n",
    "        \n",
    "        ```python\n",
    "        rename(columns ={'<old_col_name>':'<new_col_name>'}, inplace = True)\n",
    "         ```\n",
    "         \n",
    "        2. What is the datatype of the new Date column in the json DataFrame?\n",
    "            * You will notice that it is a `datetime64[ns]` datatype, which means the number of seconds since 1-1-1970. To make it date fomat like the yahoo DataFrame, convert the column to a pandas datetime datatype by using the following code: \n",
    "         \n",
    "          ```python\n",
    "         btc_df['<column_name>'] = pd.to_datetime(btc_df['<column_name>'], unit='ms')\n",
    "          ```\n",
    "         \n",
    "        3. To change the index of your dataframe use the `set_index` built-in pandas function:\n",
    "        ```python\n",
    "        set_index('<column_name>', inplace=True)\n",
    "        ```\n",
    "            * The remaining common columns labels in both DataFrames are not uniformed. The json DataFrame uses lowercase strings,  while the yahoo DataFrame uses a first letter world uppercase string.\n",
    "                  1. Change the column labels of the yahoo DataFrame to lowercase strings. Adjust the following code accordingly:\n",
    "             ```python\n",
    "                data_frame.columns= data_frame.columns.str.lower()\n",
    "             ```\n",
    "             \n",
    "4. Concatenate the two dataframe into one dataset.\n",
    "5. Do The basic EDA cheklist procedures on the resulting dataset:\n",
    "   * Do few time series plots: \n",
    "       * open, close, high, low, volume with regards to Date\n",
    "   * Print the correlation matrix.\n",
    "6. Do the General Data Cleaning Checklist operations to see if ther is still cleaning operations to accomplish.\n",
    "    * Most particularly, you will notice a NaN values in both `adj close` and `symbole` columns. What is your suggestion to deal with this missing values given that the company is not interest at all on the `adj close` data. \t\n",
    "7. Save your cleaner dataframe into a csv file.\n",
    "    * Use the `pandas.DataFrame.to_csv` method.\n",
    "             "
   ]
  }
 ],
 "metadata": {
  "anaconda-cloud": {},
  "kernelspec": {
   "display_name": "myenv",
   "language": "python",
   "name": "python3"
  },
  "language_info": {
   "codemirror_mode": {
    "name": "ipython",
    "version": 3
   },
   "file_extension": ".py",
   "mimetype": "text/x-python",
   "name": "python",
   "nbconvert_exporter": "python",
   "pygments_lexer": "ipython3",
   "version": "3.11.2"
  }
 },
 "nbformat": 4,
 "nbformat_minor": 2
}
